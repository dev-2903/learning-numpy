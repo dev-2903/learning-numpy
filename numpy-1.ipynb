{
 "cells": [
  {
   "cell_type": "code",
   "execution_count": 2,
   "id": "9b8e37cf",
   "metadata": {},
   "outputs": [],
   "source": [
    "import numpy as np\n",
    " "
   ]
  },
  {
   "cell_type": "code",
   "execution_count": 4,
   "id": "6f87db81",
   "metadata": {},
   "outputs": [],
   "source": [
    "arr1 = np.array([1,2,3])\n",
    "arr2 = np.array([[1,2,3],[4,5,6]])\n"
   ]
  },
  {
   "cell_type": "markdown",
   "id": "3a320696",
   "metadata": {},
   "source": [
    "## increase dimention and squeeze command"
   ]
  },
  {
   "cell_type": "code",
   "execution_count": 17,
   "id": "9bab2332",
   "metadata": {},
   "outputs": [
    {
     "name": "stdout",
     "output_type": "stream",
     "text": [
      "(1, 3)\n",
      "(3,)\n"
     ]
    }
   ],
   "source": [
    "arr1_inc_dim = np.expand_dims(arr1,axis=0)\n",
    "print(arr1_inc_dim.shape)\n",
    "arr1_sque = np.squeeze(arr1_inc_dim )\n",
    "print(arr1_sque.shape)"
   ]
  },
  {
   "cell_type": "markdown",
   "id": "04bf4d24",
   "metadata": {},
   "source": [
    "# Repeat and tiling function "
   ]
  },
  {
   "cell_type": "code",
   "execution_count": 18,
   "id": "e2c66a33",
   "metadata": {},
   "outputs": [
    {
     "name": "stdout",
     "output_type": "stream",
     "text": [
      "[1 1 2 2 3 3]\n",
      "[1 2 3 1 2 3]\n"
     ]
    }
   ],
   "source": [
    "arr1_repe = np.repeat(arr1 , 2)\n",
    "print(arr1_repe)\n",
    "arr1_tile = np.tile(arr1,2)\n",
    "print(arr1_tile)"
   ]
  },
  {
   "cell_type": "markdown",
   "id": "9d287cde",
   "metadata": {},
   "source": [
    "## Unfuncs"
   ]
  },
  {
   "cell_type": "code",
   "execution_count": 5,
   "id": "48c766b2",
   "metadata": {},
   "outputs": [
    {
     "name": "stdout",
     "output_type": "stream",
     "text": [
      "[[2 4 6]\n",
      " [5 7 9]]\n"
     ]
    }
   ],
   "source": [
    "addi = np.add(arr1,arr2) #we can directly add arrays\n",
    "print(addi)"
   ]
  },
  {
   "cell_type": "markdown",
   "id": "31fbc9dd",
   "metadata": {},
   "source": [
    "### reduce accumulate outer"
   ]
  },
  {
   "cell_type": "code",
   "execution_count": 17,
   "id": "8a2ee3eb",
   "metadata": {},
   "outputs": [
    {
     "name": "stdout",
     "output_type": "stream",
     "text": [
      "10\n",
      "[ 0  1  3  6 10]\n",
      "[[ 4  5]\n",
      " [ 8 10]\n",
      " [12 15]]\n"
     ]
    }
   ],
   "source": [
    "print(np.add.reduce(np.arange(5)))\n",
    "print(np.add.accumulate(np.arange(5)))\n",
    "print(np.multiply.outer([1,2,3],[4,5]))"
   ]
  },
  {
   "cell_type": "code",
   "execution_count": 49,
   "id": "97d5dc1f",
   "metadata": {},
   "outputs": [
    {
     "name": "stdout",
     "output_type": "stream",
     "text": [
      "[1 2 3]\n"
     ]
    }
   ],
   "source": [
    "\n",
    "arr1_at = np.subtract.at(arr1,2,10)\n",
    "print(arr1)"
   ]
  },
  {
   "cell_type": "code",
   "execution_count": null,
   "id": "a499051e",
   "metadata": {},
   "outputs": [
    {
     "name": "stdout",
     "output_type": "stream",
     "text": [
      "[[1 3 2]\n",
      " [6 4 5]]\n",
      "[[1 2 3]\n",
      " [4 5 6]]\n"
     ]
    }
   ],
   "source": [
    "arr2_unsort = np.array([[1,3,2],[6,4,5]])\n",
    "print(arr2_unsort)\n",
    "arr2_sorted = np.sort(arr2_unsort)\n",
    "print (arr2_sorted)"
   ]
  },
  {
   "cell_type": "code",
   "execution_count": 64,
   "id": "0cc50513",
   "metadata": {},
   "outputs": [
    {
     "name": "stdout",
     "output_type": "stream",
     "text": [
      "[[1 3 2]\n",
      " [6 4 5]]\n",
      "[[1 2 3]\n",
      " [4 5 6]]\n"
     ]
    }
   ],
   "source": [
    "arr2_ndsort = arr2_unsort\n",
    "print(arr2_ndsort)\n",
    "np.ndarray.sort(arr2_ndsort)\n",
    "print(arr2_ndsort)"
   ]
  },
  {
   "cell_type": "code",
   "execution_count": 66,
   "id": "1717eb18",
   "metadata": {},
   "outputs": [
    {
     "name": "stdout",
     "output_type": "stream",
     "text": [
      "[('dev', 20) ('Akash', 22)]\n"
     ]
    }
   ],
   "source": [
    "dt = np.dtype([('name','U10'),('age',int)])\n",
    "x = np.array([(\"Akash\",22),(\"dev\",20)],dtype=dt)\n",
    "x_sort = np.sort(x , order='age')\n",
    "print(x_sort)"
   ]
  },
  {
   "cell_type": "code",
   "execution_count": 78,
   "id": "90d5a0d0",
   "metadata": {},
   "outputs": [
    {
     "name": "stdout",
     "output_type": "stream",
     "text": [
      "[1 2 3]\n",
      "3\n"
     ]
    }
   ],
   "source": [
    "print(arr1)\n",
    "print(np.searchsorted(arr1 , 4))"
   ]
  },
  {
   "cell_type": "markdown",
   "id": "3d1999a8",
   "metadata": {},
   "source": [
    "There are quite a few operations that can be done on 1d arrays \n",
    "I'll just write them down \n"
   ]
  },
  {
   "cell_type": "code",
   "execution_count": null,
   "id": "9c696f28",
   "metadata": {},
   "outputs": [],
   "source": [
    "# np.unique() -> finds unique elements\n",
    "# np.union1d() -> union of two 1d array\n",
    "# np.intersect1d() -> intersection of two 1d array\n",
    "# np.setdiff1d() -> find elements that are present in one but not in other\n",
    "# np.setxor1d -> Xor (or symmetric difference) of two 1d array"
   ]
  },
  {
   "cell_type": "markdown",
   "id": "42cd3a55",
   "metadata": {},
   "source": [
    "### Structured arrays "
   ]
  },
  {
   "cell_type": "code",
   "execution_count": 83,
   "id": "8dbe6181",
   "metadata": {},
   "outputs": [
    {
     "name": "stdout",
     "output_type": "stream",
     "text": [
      "[('dameon', 19)]\n",
      "[('Akash', 22) ('dev', 20) ('nissin', 19)]\n",
      "[('nissin', 19)]\n"
     ]
    }
   ],
   "source": [
    "dt = np.dtype([('name','U10'),('age',int)])\n",
    "struc_arr = np.array([(\"Akash\",22),(\"dev\",20),(\"dameon\",19)],dtype=dt)\n",
    "\n",
    "#Fancy indexing\n",
    "teen = struc_arr[struc_arr['age']<20]\n",
    "print(teen)\n",
    "\n",
    "# idk ill think of something -- changing a variable that borrows data from an array also changes the original array \n",
    "namee = struc_arr[\"name\"]\n",
    "namee[2] = \"nissin\"\n",
    "print(struc_arr)\n",
    "\n",
    "#searching -- we already done this\n",
    "teen_index = np.where(struc_arr[\"age\"]<20)\n",
    "print(struc_arr[teen_index])\n"
   ]
  },
  {
   "cell_type": "code",
   "execution_count": null,
   "id": "a948f035",
   "metadata": {},
   "outputs": [
    {
     "name": "stdout",
     "output_type": "stream",
     "text": [
      "legacy method:\n"
     ]
    },
    {
     "data": {
      "text/plain": [
       "array([[0.22591492, 0.73060086],\n",
       "       [0.59551353, 0.23559575],\n",
       "       [0.65727591, 0.05945846]])"
      ]
     },
     "execution_count": 128,
     "metadata": {},
     "output_type": "execute_result"
    }
   ],
   "source": [
    "from numpy.random import *\n",
    "rng = default_rng()\n",
    "\n",
    "\n",
    "#generating random number\n",
    "\n",
    "print(\"legacy method:\")\n",
    "np.random.rand(3,2)\n",
    "\n"
   ]
  },
  {
   "cell_type": "code",
   "execution_count": 130,
   "id": "e18a49c7",
   "metadata": {},
   "outputs": [
    {
     "name": "stdout",
     "output_type": "stream",
     "text": [
      "new api:\n"
     ]
    },
    {
     "data": {
      "text/plain": [
       "0.1689749165466049"
      ]
     },
     "execution_count": 130,
     "metadata": {},
     "output_type": "execute_result"
    }
   ],
   "source": [
    "print(\"new api:\")\n",
    "rng.uniform(0.0 , 1.0 ,size=None)"
   ]
  },
  {
   "cell_type": "markdown",
   "id": "5b396769",
   "metadata": {},
   "source": [
    "# INITIAL DONE "
   ]
  }
 ],
 "metadata": {
  "kernelspec": {
   "display_name": "Python 3",
   "language": "python",
   "name": "python3"
  },
  "language_info": {
   "codemirror_mode": {
    "name": "ipython",
    "version": 3
   },
   "file_extension": ".py",
   "mimetype": "text/x-python",
   "name": "python",
   "nbconvert_exporter": "python",
   "pygments_lexer": "ipython3",
   "version": "3.12.10"
  }
 },
 "nbformat": 4,
 "nbformat_minor": 5
}
