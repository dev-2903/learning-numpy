{
 "cells": [
  {
   "cell_type": "code",
   "execution_count": 2,
   "id": "9b8e37cf",
   "metadata": {},
   "outputs": [],
   "source": [
    "import numpy as np\n",
    " "
   ]
  },
  {
   "cell_type": "code",
   "execution_count": 4,
   "id": "6f87db81",
   "metadata": {},
   "outputs": [],
   "source": [
    "arr1 = np.array([1,2,3])\n",
    "arr2 = np.array([[1,2,3],[4,5,6]])\n"
   ]
  },
  {
   "cell_type": "markdown",
   "id": "3a320696",
   "metadata": {},
   "source": [
    "## increase dimention and squeeze command"
   ]
  },
  {
   "cell_type": "code",
   "execution_count": 17,
   "id": "9bab2332",
   "metadata": {},
   "outputs": [
    {
     "name": "stdout",
     "output_type": "stream",
     "text": [
      "(1, 3)\n",
      "(3,)\n"
     ]
    }
   ],
   "source": [
    "arr1_inc_dim = np.expand_dims(arr1,axis=0)\n",
    "print(arr1_inc_dim.shape)\n",
    "arr1_sque = np.squeeze(arr1_inc_dim )\n",
    "print(arr1_sque.shape)"
   ]
  },
  {
   "cell_type": "markdown",
   "id": "04bf4d24",
   "metadata": {},
   "source": [
    "# Repeat and tiling function "
   ]
  },
  {
   "cell_type": "code",
   "execution_count": 18,
   "id": "e2c66a33",
   "metadata": {},
   "outputs": [
    {
     "name": "stdout",
     "output_type": "stream",
     "text": [
      "[1 1 2 2 3 3]\n",
      "[1 2 3 1 2 3]\n"
     ]
    }
   ],
   "source": [
    "arr1_repe = np.repeat(arr1 , 2)\n",
    "print(arr1_repe)\n",
    "arr1_tile = np.tile(arr1,2)\n",
    "print(arr1_tile)"
   ]
  },
  {
   "cell_type": "markdown",
   "id": "9d287cde",
   "metadata": {},
   "source": [
    "## Unfuncs"
   ]
  },
  {
   "cell_type": "code",
   "execution_count": 5,
   "id": "48c766b2",
   "metadata": {},
   "outputs": [
    {
     "name": "stdout",
     "output_type": "stream",
     "text": [
      "[[2 4 6]\n",
      " [5 7 9]]\n"
     ]
    }
   ],
   "source": [
    "addi = np.add(arr1,arr2) #we can directly add arrays\n",
    "print(addi)"
   ]
  },
  {
   "cell_type": "markdown",
   "id": "31fbc9dd",
   "metadata": {},
   "source": [
    "### reduce accumulate outer"
   ]
  },
  {
   "cell_type": "code",
   "execution_count": null,
   "id": "8a2ee3eb",
   "metadata": {},
   "outputs": [
    {
     "name": "stdout",
     "output_type": "stream",
     "text": [
      "10\n",
      "[ 0  1  3  6 10]\n"
     ]
    }
   ],
   "source": [
    "print(np.add.reduce(np.arange(5)))\n",
    "print(np.add.accumulate(np.arange(5)))\n",
    "print(np.multiply.outer([1,2,3],[4,5]))"
   ]
  },
  {
   "cell_type": "code",
   "execution_count": null,
   "id": "97d5dc1f",
   "metadata": {},
   "outputs": [],
   "source": []
  }
 ],
 "metadata": {
  "kernelspec": {
   "display_name": "Python 3",
   "language": "python",
   "name": "python3"
  },
  "language_info": {
   "codemirror_mode": {
    "name": "ipython",
    "version": 3
   },
   "file_extension": ".py",
   "mimetype": "text/x-python",
   "name": "python",
   "nbconvert_exporter": "python",
   "pygments_lexer": "ipython3",
   "version": "3.12.10"
  }
 },
 "nbformat": 4,
 "nbformat_minor": 5
}
